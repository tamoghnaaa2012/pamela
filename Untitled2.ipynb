{
 "cells": [
  {
   "cell_type": "code",
   "execution_count": 19,
   "metadata": {},
   "outputs": [
    {
     "name": "stdout",
     "output_type": "stream",
     "text": [
      "[[-20.    0.5   0.  ...   0.    0.    0.5]\n",
      " [  0.5 -10.    0.5 ...   0.    0.    0. ]\n",
      " [  0.    0.5 -20.  ...   0.    0.    0. ]\n",
      " ...\n",
      " [  0.    0.    0.  ... -10.    0.5   0. ]\n",
      " [  0.    0.    0.  ...   0.5 -20.    0.5]\n",
      " [  0.5   0.    0.  ...   0.    0.5 -10. ]]\n",
      "[-20.09901951 -20.09863289 -20.09747894 -20.09557536 -20.09295134\n",
      " -20.08964719 -20.08571375 -20.         -20.00039425 -20.0015706\n",
      " -20.08121167 -20.09863289 -20.09747894 -20.09557536 -20.09295134\n",
      " -20.08964719 -20.08571375 -20.00350994 -20.0015706  -20.08121167\n",
      " -20.00618085 -20.00039425 -20.05902072 -20.06502799 -20.02862907\n",
      " -20.00350994 -20.07621054 -20.00954005 -20.04046718 -20.00618085\n",
      " -20.07078787 -20.07621054 -20.01809605 -20.01353325 -20.00954005\n",
      " -20.04664292 -20.02315504 -20.01809605 -20.01353325 -20.02315504\n",
      " -20.07078787 -20.05286011 -20.02862907 -20.05902072 -20.06502799\n",
      " -20.04046718 -20.05286011 -20.04664292 -20.0344306   -9.90098049\n",
      "  -9.90136711  -9.90252106  -9.91035281  -9.91428625  -9.90704866\n",
      "  -9.93497201  -9.90136711  -9.90252106  -9.91035281  -9.91428625\n",
      "  -9.91878833  -9.91878833  -9.9655694   -9.90704866  -9.92921213\n",
      "  -9.9984294   -9.95953282  -9.94097928  -9.92921213  -9.90442464\n",
      "  -9.92378946  -9.93497201  -9.95953282  -9.99649006 -10.\n",
      "  -9.9984294   -9.97137093  -9.94097928  -9.9655694   -9.99649006\n",
      "  -9.99381915  -9.98646675  -9.95335708  -9.95335708  -9.97684496\n",
      "  -9.97684496  -9.99381915  -9.98190395  -9.98190395  -9.90442464\n",
      "  -9.98646675  -9.99045995  -9.99960575  -9.94713989 -20.0344306\n",
      "  -9.92378946  -9.99045995  -9.94713989  -9.97137093  -9.99960575]\n",
      "[-20.09901951 -20.09863289 -20.09863289 -20.09747894 -20.09747894\n",
      " -20.09557536 -20.09557536 -20.09295134 -20.09295134 -20.08964719\n",
      " -20.08964719 -20.08571375 -20.08571375 -20.08121167 -20.08121167\n",
      " -20.07621054 -20.07621054 -20.07078787 -20.07078787 -20.06502799\n",
      " -20.06502799 -20.05902072 -20.05902072 -20.05286011 -20.05286011\n",
      " -20.04664292 -20.04664292 -20.04046718 -20.04046718 -20.0344306\n",
      " -20.0344306  -20.02862907 -20.02862907 -20.02315504 -20.02315504\n",
      " -20.01809605 -20.01809605 -20.01353325 -20.01353325 -20.00954005\n",
      " -20.00954005 -20.00618085 -20.00618085 -20.00350994 -20.00350994\n",
      " -20.0015706  -20.0015706  -20.00039425 -20.00039425 -20.\n",
      " -10.          -9.99960575  -9.99960575  -9.9984294   -9.9984294\n",
      "  -9.99649006  -9.99649006  -9.99381915  -9.99381915  -9.99045995\n",
      "  -9.99045995  -9.98646675  -9.98646675  -9.98190395  -9.98190395\n",
      "  -9.97684496  -9.97684496  -9.97137093  -9.97137093  -9.9655694\n",
      "  -9.9655694   -9.95953282  -9.95953282  -9.95335708  -9.95335708\n",
      "  -9.94713989  -9.94713989  -9.94097928  -9.94097928  -9.93497201\n",
      "  -9.93497201  -9.92921213  -9.92921213  -9.92378946  -9.92378946\n",
      "  -9.91878833  -9.91878833  -9.91428625  -9.91428625  -9.91035281\n",
      "  -9.91035281  -9.90704866  -9.90704866  -9.90442464  -9.90442464\n",
      "  -9.90252106  -9.90252106  -9.90136711  -9.90136711  -9.90098049]\n"
     ]
    },
    {
     "data": {
      "image/png": "[encoded data removed]",
      "text/plain": [
       "<Figure size 432x288 with 1 Axes>"
      ]
     },
     "metadata": {
      "needs_background": "light"
     },
     "output_type": "display_data"
    }
   ],
   "source": [
    "import numpy as np\n",
    "import matplotlib.pyplot as plt\n",
    "import math\n",
    "#Creating the matrix\n",
    "E1 = -10\n",
    "E2 = -20\n",
    "Beta = 0.5\n",
    "n = 100 #Rank of matrix\n",
    "M = np.zeros((n,n))\n",
    "#print(M)\n",
    "for i in range (n):\n",
    "    for j in range (n):\n",
    "        if i == j:\n",
    "            if i%2 == 0:\n",
    "                M[i][j] = E2\n",
    "            else:\n",
    "                M[i][j] = E1\n",
    "        elif j == i+1 :\n",
    "            M[i][j] = Beta\n",
    "        elif j == i-1 :\n",
    "            M[i][j] = Beta\n",
    "for i in range (n):\n",
    "    for j in range (n):\n",
    "        if i == n-1 and j == 0 :\n",
    "            M[i][j] = Beta\n",
    "        elif i == 0 and j == n-1:\n",
    "            M[i][j] = Beta\n",
    "            \n",
    "for i in range (n):\n",
    "    for j in range (n):\n",
    "        "
   ]
  },
  {
   "cell_type": "code",
   "execution_count": null,
   "metadata": {},
   "outputs": [],
   "source": []
  }
 ],
 "metadata": {
  "kernelspec": {
   "display_name": "Python 3",
   "language": "python",
   "name": "python3"
  },
  "language_info": {
   "codemirror_mode": {
    "name": "ipython",
    "version": 3
   },
   "file_extension": ".py",
   "mimetype": "text/x-python",
   "name": "python",
   "nbconvert_exporter": "python",
   "pygments_lexer": "ipython3",
   "version": "3.8.5"
  }
 },
 "nbformat": 4,
 "nbformat_minor": 4
}
